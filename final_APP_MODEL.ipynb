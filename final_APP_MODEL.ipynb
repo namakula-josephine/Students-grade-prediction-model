{
  "nbformat": 4,
  "nbformat_minor": 0,
  "metadata": {
    "colab": {
      "provenance": [],
      "gpuType": "T4",
      "include_colab_link": true
    },
    "kernelspec": {
      "name": "python3",
      "display_name": "Python 3"
    },
    "language_info": {
      "name": "python"
    },
    "accelerator": "GPU"
  },
  "cells": [
    {
      "cell_type": "markdown",
      "metadata": {
        "id": "view-in-github",
        "colab_type": "text"
      },
      "source": [
        "<a href=\"https://colab.research.google.com/github/namakula-josephine/Students-grade-prediction-model/blob/main/final_APP_MODEL.ipynb\" target=\"_parent\"><img src=\"https://colab.research.google.com/assets/colab-badge.svg\" alt=\"Open In Colab\"/></a>"
      ]
    },
    {
      "cell_type": "code",
      "execution_count": null,
      "metadata": {
        "id": "HMMvKYAofiEM"
      },
      "outputs": [],
      "source": []
    },
    {
      "cell_type": "code",
      "source": [],
      "metadata": {
        "id": "wTrGeUaUev_Z"
      },
      "execution_count": null,
      "outputs": []
    },
    {
      "cell_type": "code",
      "source": [
        "import pandas as pd\n",
        "import numpy as np\n",
        "import torch\n",
        "import torch.nn as nn\n",
        "import torch.optim as optim\n",
        "from sklearn.model_selection import train_test_split\n",
        "from torch.utils.data import DataLoader, TensorDataset\n",
        "import matplotlib.pyplot as plt\n"
      ],
      "metadata": {
        "id": "ozg_4OlhrIKA"
      },
      "execution_count": null,
      "outputs": []
    },
    {
      "cell_type": "code",
      "source": [],
      "metadata": {
        "id": "yqV4l6mrnV2X"
      },
      "execution_count": null,
      "outputs": []
    },
    {
      "cell_type": "code",
      "source": [
        "\n",
        " from google.colab import drive\n",
        "drive.mount('/content/drive')\n"
      ],
      "metadata": {
        "id": "_Zs1HhRYr04o",
        "colab": {
          "base_uri": "https://localhost:8080/"
        },
        "outputId": "18763874-78e7-4eb3-9ea7-2a5aba802f7d"
      },
      "execution_count": null,
      "outputs": [
        {
          "output_type": "stream",
          "name": "stdout",
          "text": [
            "Mounted at /content/drive\n"
          ]
        }
      ]
    },
    {
      "cell_type": "code",
      "source": [
        "data = pd.read_csv(\"/content/drive/MyDrive/Iraqi Student Performance Prediction.csv\")"
      ],
      "metadata": {
        "id": "rkSKjcXWsqIb"
      },
      "execution_count": null,
      "outputs": []
    },
    {
      "cell_type": "code",
      "source": [
        "print(data.head())"
      ],
      "metadata": {
        "colab": {
          "base_uri": "https://localhost:8080/"
        },
        "id": "KQyCFY7gtkdM",
        "outputId": "66c71049-779e-4876-cfec-ba0cc503f3b7"
      },
      "execution_count": null,
      "outputs": [
        {
          "output_type": "stream",
          "name": "stdout",
          "text": [
            "   Student_ID   Sex Social Status  Age Governorate Living Mother education  \\\n",
            "0           1  Male        single    2     baghdad   city        secondary   \n",
            "1           2  Male        single    3     baghdad   city           medium   \n",
            "2           3  Male        single    2     baghdad   city       Illiterate   \n",
            "3           4  Male       coupled    3     baghdad   city               ba   \n",
            "4           5  Male        single    2     baghdad   city        secondary   \n",
            "\n",
            "  Father education Family member Education Father Alive  ... economy/bio  \\\n",
            "0        secondary                     yes          yes  ...          70   \n",
            "1           higher                     yes          yes  ...          87   \n",
            "2        secondary                      no          yes  ...          58   \n",
            "3               ba                     yes          yes  ...          92   \n",
            "4        secondary                     yes          yes  ...          60   \n",
            "\n",
            "   Avg1 Islamea.1 arabic.1 english.1 math.1 physics.1 chemistry.1  \\\n",
            "0    55        69       50        60     41        59          50   \n",
            "1    70        65       87        68     85        64          61   \n",
            "2    54        44       50        46     45        55          30   \n",
            "3    73        60       55        60     55        70          73   \n",
            "4    34        40       32        28     25        35          25   \n",
            "\n",
            "  economy/bio.1 Avg1.1  \n",
            "0            69     57  \n",
            "1            69     71  \n",
            "2            43     45  \n",
            "3            80     65  \n",
            "4            40     32  \n",
            "\n",
            "[5 rows x 56 columns]\n"
          ]
        }
      ]
    },
    {
      "cell_type": "code",
      "source": [
        "data = pd.get_dummies(data, columns=['Sex', 'Social Status', 'Governorate', 'Living', 'Mother education', 'Father education', 'Family member Education', 'Father Alive', 'Mother Alive', 'Parent Apart', 'The Guardian', 'Family Relationship', 'Father Job', 'Mother Job', 'Education Fee', 'Secondary Job', 'Home Ownership', 'Study Room', 'Family Economic Level', 'You  chronic disease', 'Family Chronic Disease', 'Specialization', 'Study willing', 'Reason of study', 'Attendance', 'Failure Year', 'Higher Education Willing', 'References Usage', 'Transport', 'Holiday Effect', 'Worry Effect', 'Parent Meeting'])"
      ],
      "metadata": {
        "id": "-F248puS7VtG"
      },
      "execution_count": null,
      "outputs": []
    },
    {
      "cell_type": "code",
      "source": [
        "print(data)"
      ],
      "metadata": {
        "colab": {
          "base_uri": "https://localhost:8080/"
        },
        "id": "CSnjeOblPoDR",
        "outputId": "ba9d4c6b-bd28-45ec-fbba-0a0cb3d43c0d"
      },
      "execution_count": null,
      "outputs": [
        {
          "output_type": "stream",
          "name": "stdout",
          "text": [
            "     Student_ID  Age  Family Size  Internet Usage  TV Usage  Sleep Hour  \\\n",
            "0             1    2            0               1         0           1   \n",
            "1             2    3            1               2         0           2   \n",
            "2             3    2            0               2         0           2   \n",
            "3             4    3            0               0         0           1   \n",
            "4             5    2            1               1         0           1   \n",
            "..          ...  ...          ...             ...       ...         ...   \n",
            "115         116    2            1               0         0           1   \n",
            "116         117    3            2               0         0           1   \n",
            "117         118    2            1               0         0           0   \n",
            "118         119    4            1               0         0           2   \n",
            "119         120    2            2               0         0           1   \n",
            "\n",
            "     Study Hour  Arrival Time  Islamea  arabic  ...  References Usage_no  \\\n",
            "0             3             0       54      60  ...                    0   \n",
            "1             0             0       70      77  ...                    0   \n",
            "2             0             0       73      62  ...                    1   \n",
            "3             1             1       70      65  ...                    0   \n",
            "4             1             1       50      35  ...                    0   \n",
            "..          ...           ...      ...     ...  ...                  ...   \n",
            "115           3             0       87      76  ...                    0   \n",
            "116           3             0       83      40  ...                    0   \n",
            "117           3             1       85      53  ...                    0   \n",
            "118           2             0       86      60  ...                    0   \n",
            "119           1             1       92      83  ...                    0   \n",
            "\n",
            "     References Usage_yes  Transport_car  Transport_foot  Holiday Effect_no  \\\n",
            "0                       1              0               1                  0   \n",
            "1                       1              0               1                  0   \n",
            "2                       0              0               1                  0   \n",
            "3                       1              0               1                  1   \n",
            "4                       1              0               1                  1   \n",
            "..                    ...            ...             ...                ...   \n",
            "115                     1              0               1                  1   \n",
            "116                     1              0               1                  0   \n",
            "117                     1              0               1                  0   \n",
            "118                     1              0               1                  0   \n",
            "119                     1              0               1                  1   \n",
            "\n",
            "     Holiday Effect_yes  Worry Effect_no  Worry Effect_yes  Parent Meeting_no  \\\n",
            "0                     1                1                 0                  0   \n",
            "1                     1                0                 1                  0   \n",
            "2                     1                0                 1                  1   \n",
            "3                     0                0                 1                  0   \n",
            "4                     0                0                 1                  0   \n",
            "..                  ...              ...               ...                ...   \n",
            "115                   0                0                 1                  0   \n",
            "116                   1                0                 1                  0   \n",
            "117                   1                0                 1                  0   \n",
            "118                   1                0                 1                  0   \n",
            "119                   0                1                 0                  1   \n",
            "\n",
            "     Parent Meeting_yes  \n",
            "0                     1  \n",
            "1                     1  \n",
            "2                     0  \n",
            "3                     1  \n",
            "4                     1  \n",
            "..                  ...  \n",
            "115                   1  \n",
            "116                   1  \n",
            "117                   1  \n",
            "118                   1  \n",
            "119                   0  \n",
            "\n",
            "[120 rows x 104 columns]\n"
          ]
        }
      ]
    },
    {
      "cell_type": "code",
      "source": [
        "target = data['Avg1']\n",
        "features = data.drop(columns=['Avg1'])"
      ],
      "metadata": {
        "id": "6lGD6j7MvsQP"
      },
      "execution_count": null,
      "outputs": []
    },
    {
      "cell_type": "code",
      "source": [
        "features = (features - features.mean()) / features.std()"
      ],
      "metadata": {
        "id": "C7oTjb_H6c8Q"
      },
      "execution_count": null,
      "outputs": []
    },
    {
      "cell_type": "code",
      "source": [
        "X_train, X_test, y_train, y_test = train_test_split(features, target, test_size=0.2, random_state=42)\n",
        "\n",
        "# Convert data to PyTorch tensors\n",
        "X_train_tensor = torch.tensor(X_train.values, dtype=torch.float32)\n",
        "y_train_tensor = torch.tensor(y_train.values, dtype=torch.float32)\n",
        "X_test_tensor = torch.tensor(X_test.values, dtype=torch.float32)\n",
        "y_test_tensor = torch.tensor(y_test.values, dtype=torch.float32)"
      ],
      "metadata": {
        "id": "S-faQ0HN6gEL"
      },
      "execution_count": null,
      "outputs": []
    },
    {
      "cell_type": "code",
      "source": [
        "class GNN(nn.Module):\n",
        "    def __init__(self, input_dim, hidden_dim, output_dim):\n",
        "        super(GNN, self).__init__()\n",
        "        self.fc1 = nn.Linear(input_dim, hidden_dim)\n",
        "        self.fc2 = nn.Linear(hidden_dim, output_dim)\n",
        "        self.relu = nn.ReLU()\n",
        "\n",
        "    def forward(self, x):\n",
        "        x = self.relu(self.fc1(x))\n",
        "        x = self.fc2(x)\n",
        "        return x\n",
        "\n",
        "# Instantiate the model\n",
        "input_dim = X_train.shape[1]  # Number of features\n",
        "hidden_dim = 64  # Hidden layer size\n",
        "output_dim = 1  # Output size\n",
        "model = GNN(input_dim, hidden_dim, output_dim)\n"
      ],
      "metadata": {
        "id": "g9flRbqtQBwv"
      },
      "execution_count": null,
      "outputs": []
    },
    {
      "cell_type": "code",
      "source": [
        "# Define loss function and optimizer\n",
        "criterion = nn.MSELoss()\n",
        "optimizer = optim.Adam(model.parameters(), lr=0.001)\n",
        "\n",
        "# Convert data to DataLoader for batching\n",
        "train_data = TensorDataset(X_train_tensor, y_train_tensor)\n",
        "train_loader = DataLoader(train_data, batch_size=64, shuffle=True)"
      ],
      "metadata": {
        "id": "SLvhalLEQQcM"
      },
      "execution_count": null,
      "outputs": []
    },
    {
      "cell_type": "code",
      "source": [
        "# Training the model\n",
        "from sklearn.metrics import r2_score\n",
        "\n",
        "epochs = 500\n",
        "train_losses = []\n",
        "train_accuracies = []\n",
        "\n",
        "for epoch in range(epochs):\n",
        "    model.train()\n",
        "    running_loss = 0.0\n",
        "    y_true = []\n",
        "    y_pred = []\n",
        "\n",
        "    for inputs, labels in train_loader:\n",
        "        optimizer.zero_grad()\n",
        "        outputs = model(inputs)\n",
        "        loss = criterion(outputs.squeeze(), labels)\n",
        "        loss.backward()\n",
        "        optimizer.step()\n",
        "        running_loss += loss.item()\n",
        "\n",
        "        # Store predictions for computing accuracy\n",
        "        y_true.extend(labels.numpy())\n",
        "        y_pred.extend(outputs.squeeze().detach().numpy())\n",
        "\n",
        "    train_losses.append(running_loss / len(train_loader))\n",
        "\n",
        "    # Compute R-squared\n",
        "    r2 = r2_score(y_true, y_pred)\n",
        "    train_accuracies.append(r2)\n",
        "\n",
        "    print(f'Epoch {epoch+1}/{epochs}, Loss: {train_losses[-1]}, Accuracy: {train_accuracies[-1]}')\n",
        "\n",
        "\n"
      ],
      "metadata": {
        "colab": {
          "base_uri": "https://localhost:8080/"
        },
        "id": "KaZIw-YkQ3se",
        "outputId": "014291b2-c4e6-4a00-b1cf-27b776129503"
      },
      "execution_count": null,
      "outputs": [
        {
          "output_type": "stream",
          "name": "stdout",
          "text": [
            "Epoch 1/500, Loss: 4549.075439453125, Accuracy: -18.401535999388795\n",
            "Epoch 2/500, Loss: 4560.784912109375, Accuracy: -18.35103637805062\n",
            "Epoch 3/500, Loss: 4526.504638671875, Accuracy: -18.303299638719395\n",
            "Epoch 4/500, Loss: 4538.3681640625, Accuracy: -18.256044460623794\n",
            "Epoch 5/500, Loss: 4656.578369140625, Accuracy: -18.207647187288583\n",
            "Epoch 6/500, Loss: 4501.65283203125, Accuracy: -18.16082250849003\n",
            "Epoch 7/500, Loss: 4575.231201171875, Accuracy: -18.110624985208943\n",
            "Epoch 8/500, Loss: 4403.181640625, Accuracy: -18.063432455665954\n",
            "Epoch 9/500, Loss: 4443.21044921875, Accuracy: -18.010984084408445\n",
            "Epoch 10/500, Loss: 4420.48974609375, Accuracy: -17.95860555887705\n",
            "Epoch 11/500, Loss: 4505.382568359375, Accuracy: -17.90323111758493\n",
            "Epoch 12/500, Loss: 4535.882080078125, Accuracy: -17.845711651826345\n",
            "Epoch 13/500, Loss: 4303.256103515625, Accuracy: -17.79024423738759\n",
            "Epoch 14/500, Loss: 4365.385009765625, Accuracy: -17.729294287783514\n",
            "Epoch 15/500, Loss: 4415.601806640625, Accuracy: -17.664138413453504\n",
            "Epoch 16/500, Loss: 4341.777099609375, Accuracy: -17.600028287625598\n",
            "Epoch 17/500, Loss: 4275.3111572265625, Accuracy: -17.533654509265478\n",
            "Epoch 18/500, Loss: 4311.687255859375, Accuracy: -17.462018874929793\n",
            "Epoch 19/500, Loss: 4363.79931640625, Accuracy: -17.387159246378015\n",
            "Epoch 20/500, Loss: 4290.78662109375, Accuracy: -17.313188995541022\n",
            "Epoch 21/500, Loss: 4263.3994140625, Accuracy: -17.23454773329089\n",
            "Epoch 22/500, Loss: 4312.474609375, Accuracy: -17.15237964045775\n",
            "Epoch 23/500, Loss: 4246.001953125, Accuracy: -17.065653376359325\n",
            "Epoch 24/500, Loss: 4105.562744140625, Accuracy: -16.98089014066111\n",
            "Epoch 25/500, Loss: 4153.2884521484375, Accuracy: -16.888915962247815\n",
            "Epoch 26/500, Loss: 4303.7952880859375, Accuracy: -16.790327080193798\n",
            "Epoch 27/500, Loss: 4180.44921875, Accuracy: -16.695450166647635\n",
            "Epoch 28/500, Loss: 4192.2802734375, Accuracy: -16.592496396912303\n",
            "Epoch 29/500, Loss: 4067.08935546875, Accuracy: -16.489193595249372\n",
            "Epoch 30/500, Loss: 4035.4942626953125, Accuracy: -16.380230290724164\n",
            "Epoch 31/500, Loss: 4012.744140625, Accuracy: -16.26920205218107\n",
            "Epoch 32/500, Loss: 3989.015869140625, Accuracy: -16.15706929405712\n",
            "Epoch 33/500, Loss: 4113.6087646484375, Accuracy: -16.02995090514461\n",
            "Epoch 34/500, Loss: 3930.769775390625, Accuracy: -15.914206173686459\n",
            "Epoch 35/500, Loss: 3985.54345703125, Accuracy: -15.783890822397847\n",
            "Epoch 36/500, Loss: 4004.411865234375, Accuracy: -15.654716828039025\n",
            "Epoch 37/500, Loss: 3933.090576171875, Accuracy: -15.520648588633101\n",
            "Epoch 38/500, Loss: 3845.0887451171875, Accuracy: -15.385488100678955\n",
            "Epoch 39/500, Loss: 3857.7969970703125, Accuracy: -15.243493905911532\n",
            "Epoch 40/500, Loss: 3851.2587890625, Accuracy: -15.100640870893699\n",
            "Epoch 41/500, Loss: 3788.459716796875, Accuracy: -14.95064511676094\n",
            "Epoch 42/500, Loss: 3656.49951171875, Accuracy: -14.801738083995529\n",
            "Epoch 43/500, Loss: 3710.4976806640625, Accuracy: -14.64619946885677\n",
            "Epoch 44/500, Loss: 3634.8603515625, Accuracy: -14.491963358892479\n",
            "Epoch 45/500, Loss: 3601.0869140625, Accuracy: -14.326344599722429\n",
            "Epoch 46/500, Loss: 3549.7567138671875, Accuracy: -14.1706177344404\n",
            "Epoch 47/500, Loss: 3511.0933837890625, Accuracy: -14.000029732495733\n",
            "Epoch 48/500, Loss: 3506.66357421875, Accuracy: -13.828715177098157\n",
            "Epoch 49/500, Loss: 3359.1328125, Accuracy: -13.667225973394766\n",
            "Epoch 50/500, Loss: 3267.481201171875, Accuracy: -13.49214977524988\n",
            "Epoch 51/500, Loss: 3346.9998779296875, Accuracy: -13.314202802164921\n",
            "Epoch 52/500, Loss: 3348.11767578125, Accuracy: -13.13953599142849\n",
            "Epoch 53/500, Loss: 3237.87255859375, Accuracy: -12.960902403679732\n",
            "Epoch 54/500, Loss: 3238.298828125, Accuracy: -12.778231347100249\n",
            "Epoch 55/500, Loss: 3195.7398681640625, Accuracy: -12.595503181986398\n",
            "Epoch 56/500, Loss: 3167.069580078125, Accuracy: -12.411290421322178\n",
            "Epoch 57/500, Loss: 3063.7930908203125, Accuracy: -12.227182198862135\n",
            "Epoch 58/500, Loss: 3133.4969482421875, Accuracy: -12.031205189248164\n",
            "Epoch 59/500, Loss: 3055.88818359375, Accuracy: -11.847910064164157\n",
            "Epoch 60/500, Loss: 2967.4471435546875, Accuracy: -11.651529137101377\n",
            "Epoch 61/500, Loss: 2965.6566162109375, Accuracy: -11.459705377579759\n",
            "Epoch 62/500, Loss: 2882.8369140625, Accuracy: -11.261641144535977\n",
            "Epoch 63/500, Loss: 2845.6568603515625, Accuracy: -11.065011009614599\n",
            "Epoch 64/500, Loss: 2865.0078125, Accuracy: -10.866288982935778\n",
            "Epoch 65/500, Loss: 2847.605224609375, Accuracy: -10.678783254019965\n",
            "Epoch 66/500, Loss: 2742.162841796875, Accuracy: -10.475335157954865\n",
            "Epoch 67/500, Loss: 2642.454833984375, Accuracy: -10.27892377022271\n",
            "Epoch 68/500, Loss: 2597.41845703125, Accuracy: -10.085309013879073\n",
            "Epoch 69/500, Loss: 2509.030517578125, Accuracy: -9.889017558380385\n",
            "Epoch 70/500, Loss: 2513.9425048828125, Accuracy: -9.683796198401856\n",
            "Epoch 71/500, Loss: 2454.7191162109375, Accuracy: -9.493900405647475\n",
            "Epoch 72/500, Loss: 2444.1968994140625, Accuracy: -9.29674575279259\n",
            "Epoch 73/500, Loss: 2382.3165283203125, Accuracy: -9.107830346564365\n",
            "Epoch 74/500, Loss: 2333.8382568359375, Accuracy: -8.913420854933367\n",
            "Epoch 75/500, Loss: 2258.83349609375, Accuracy: -8.720970123517315\n",
            "Epoch 76/500, Loss: 2242.03369140625, Accuracy: -8.52833555228137\n",
            "Epoch 77/500, Loss: 2141.6514892578125, Accuracy: -8.3389823896286\n",
            "Epoch 78/500, Loss: 2173.3646240234375, Accuracy: -8.147967293582232\n",
            "Epoch 79/500, Loss: 2147.96630859375, Accuracy: -7.964192908418038\n",
            "Epoch 80/500, Loss: 2130.2044677734375, Accuracy: -7.779669225008135\n",
            "Epoch 81/500, Loss: 2018.8811645507812, Accuracy: -7.59387499526928\n",
            "Epoch 82/500, Loss: 1953.6527099609375, Accuracy: -7.409279094919226\n",
            "Epoch 83/500, Loss: 1917.30517578125, Accuracy: -7.231345751599484\n",
            "Epoch 84/500, Loss: 1962.5910034179688, Accuracy: -7.052972401222785\n",
            "Epoch 85/500, Loss: 1858.796875, Accuracy: -6.873545019599057\n",
            "Epoch 86/500, Loss: 1794.7471313476562, Accuracy: -6.703414705075987\n",
            "Epoch 87/500, Loss: 1765.788330078125, Accuracy: -6.528698489556241\n",
            "Epoch 88/500, Loss: 1696.681396484375, Accuracy: -6.360517036439984\n",
            "Epoch 89/500, Loss: 1683.4605712890625, Accuracy: -6.192302999676786\n",
            "Epoch 90/500, Loss: 1668.30908203125, Accuracy: -6.028204546068914\n",
            "Epoch 91/500, Loss: 1629.439208984375, Accuracy: -5.866714203913331\n",
            "Epoch 92/500, Loss: 1547.9381103515625, Accuracy: -5.7062769864532745\n",
            "Epoch 93/500, Loss: 1558.273193359375, Accuracy: -5.553779808658762\n",
            "Epoch 94/500, Loss: 1543.38623046875, Accuracy: -5.396349442163248\n",
            "Epoch 95/500, Loss: 1487.9066162109375, Accuracy: -5.246633199768672\n",
            "Epoch 96/500, Loss: 1415.953369140625, Accuracy: -5.101470363560154\n",
            "Epoch 97/500, Loss: 1388.9854125976562, Accuracy: -4.954350639941072\n",
            "Epoch 98/500, Loss: 1406.5484619140625, Accuracy: -4.8135084156439785\n",
            "Epoch 99/500, Loss: 1362.5419921875, Accuracy: -4.6744482280785995\n",
            "Epoch 100/500, Loss: 1385.5540161132812, Accuracy: -4.539115914090779\n",
            "Epoch 101/500, Loss: 1277.9393920898438, Accuracy: -4.406597836639963\n",
            "Epoch 102/500, Loss: 1269.93310546875, Accuracy: -4.276825598474149\n",
            "Epoch 103/500, Loss: 1299.9778442382812, Accuracy: -4.147848943871756\n",
            "Epoch 104/500, Loss: 1161.6209106445312, Accuracy: -4.027666961557211\n",
            "Epoch 105/500, Loss: 1169.4266357421875, Accuracy: -3.905304585263651\n",
            "Epoch 106/500, Loss: 1230.5458068847656, Accuracy: -3.786452331304436\n",
            "Epoch 107/500, Loss: 1156.4206848144531, Accuracy: -3.6710762813460054\n",
            "Epoch 108/500, Loss: 1061.9642333984375, Accuracy: -3.561607327778912\n",
            "Epoch 109/500, Loss: 1078.6470336914062, Accuracy: -3.45058170511854\n",
            "Epoch 110/500, Loss: 1062.5903625488281, Accuracy: -3.344127925872338\n",
            "Epoch 111/500, Loss: 1012.1918334960938, Accuracy: -3.242394934328832\n",
            "Epoch 112/500, Loss: 965.7735290527344, Accuracy: -3.1424990369214676\n",
            "Epoch 113/500, Loss: 917.1025695800781, Accuracy: -3.0453822390633407\n",
            "Epoch 114/500, Loss: 947.9464111328125, Accuracy: -2.9472515578586775\n",
            "Epoch 115/500, Loss: 872.4264221191406, Accuracy: -2.8599213927109104\n",
            "Epoch 116/500, Loss: 947.255126953125, Accuracy: -2.7664689926299473\n",
            "Epoch 117/500, Loss: 823.2245178222656, Accuracy: -2.682689713662113\n",
            "Epoch 118/500, Loss: 817.4580078125, Accuracy: -2.597939903219071\n",
            "Epoch 119/500, Loss: 802.1716003417969, Accuracy: -2.51827951600352\n",
            "Epoch 120/500, Loss: 839.4714965820312, Accuracy: -2.4349320170349964\n",
            "Epoch 121/500, Loss: 826.0367126464844, Accuracy: -2.359688237928333\n",
            "Epoch 122/500, Loss: 785.1543579101562, Accuracy: -2.2868038917473417\n",
            "Epoch 123/500, Loss: 829.7866516113281, Accuracy: -2.2135987424218624\n",
            "Epoch 124/500, Loss: 742.900634765625, Accuracy: -2.143064164907038\n",
            "Epoch 125/500, Loss: 782.3884582519531, Accuracy: -2.073930802441696\n",
            "Epoch 126/500, Loss: 731.8384094238281, Accuracy: -2.0092099993037453\n",
            "Epoch 127/500, Loss: 697.4124755859375, Accuracy: -1.9461694551867113\n",
            "Epoch 128/500, Loss: 686.0263977050781, Accuracy: -1.8804830109593405\n",
            "Epoch 129/500, Loss: 663.6678771972656, Accuracy: -1.8212708925019916\n",
            "Epoch 130/500, Loss: 662.52294921875, Accuracy: -1.7629661443879492\n",
            "Epoch 131/500, Loss: 649.6181030273438, Accuracy: -1.7067779760028938\n",
            "Epoch 132/500, Loss: 623.3744506835938, Accuracy: -1.6516647301915026\n",
            "Epoch 133/500, Loss: 604.467529296875, Accuracy: -1.5972148805092599\n",
            "Epoch 134/500, Loss: 585.7710571289062, Accuracy: -1.5466754568609185\n",
            "Epoch 135/500, Loss: 592.8382263183594, Accuracy: -1.495868693358378\n",
            "Epoch 136/500, Loss: 587.1380615234375, Accuracy: -1.4476004464285062\n",
            "Epoch 137/500, Loss: 574.5029296875, Accuracy: -1.4007479639949816\n",
            "Epoch 138/500, Loss: 574.8938293457031, Accuracy: -1.3513608707892564\n",
            "Epoch 139/500, Loss: 539.7993469238281, Accuracy: -1.3091872438875507\n",
            "Epoch 140/500, Loss: 546.6714324951172, Accuracy: -1.2654064264279263\n",
            "Epoch 141/500, Loss: 525.0688171386719, Accuracy: -1.2215677509565412\n",
            "Epoch 142/500, Loss: 517.2041625976562, Accuracy: -1.1805795193012636\n",
            "Epoch 143/500, Loss: 499.9381103515625, Accuracy: -1.1402516113508345\n",
            "Epoch 144/500, Loss: 470.3681640625, Accuracy: -1.1012397613215814\n",
            "Epoch 145/500, Loss: 465.11106872558594, Accuracy: -1.061921265253063\n",
            "Epoch 146/500, Loss: 498.46356201171875, Accuracy: -1.0232930523711694\n",
            "Epoch 147/500, Loss: 485.94496154785156, Accuracy: -0.9891672461228249\n",
            "Epoch 148/500, Loss: 482.9591979980469, Accuracy: -0.9504304550793985\n",
            "Epoch 149/500, Loss: 448.36773681640625, Accuracy: -0.9168328644501231\n",
            "Epoch 150/500, Loss: 425.0465545654297, Accuracy: -0.884208103757425\n",
            "Epoch 151/500, Loss: 443.7927551269531, Accuracy: -0.8493516288056888\n",
            "Epoch 152/500, Loss: 475.71038818359375, Accuracy: -0.8156311976270394\n",
            "Epoch 153/500, Loss: 417.9247283935547, Accuracy: -0.7863881992151933\n",
            "Epoch 154/500, Loss: 419.37603759765625, Accuracy: -0.7536146060943671\n",
            "Epoch 155/500, Loss: 382.7598876953125, Accuracy: -0.7237499097960178\n",
            "Epoch 156/500, Loss: 405.5631866455078, Accuracy: -0.6934069330106094\n",
            "Epoch 157/500, Loss: 378.817626953125, Accuracy: -0.6640824963876162\n",
            "Epoch 158/500, Loss: 395.8443603515625, Accuracy: -0.6366990954878633\n",
            "Epoch 159/500, Loss: 373.3551330566406, Accuracy: -0.6104461834965516\n",
            "Epoch 160/500, Loss: 400.3448944091797, Accuracy: -0.5817062046600465\n",
            "Epoch 161/500, Loss: 372.4430847167969, Accuracy: -0.5550170804693069\n",
            "Epoch 162/500, Loss: 387.17144775390625, Accuracy: -0.527894467810353\n",
            "Epoch 163/500, Loss: 354.3323974609375, Accuracy: -0.5042730057998133\n",
            "Epoch 164/500, Loss: 360.5862274169922, Accuracy: -0.47783535935442245\n",
            "Epoch 165/500, Loss: 335.38975524902344, Accuracy: -0.455199831509826\n",
            "Epoch 166/500, Loss: 319.5766296386719, Accuracy: -0.43015440941429883\n",
            "Epoch 167/500, Loss: 314.6801452636719, Accuracy: -0.4066586226162694\n",
            "Epoch 168/500, Loss: 298.18753814697266, Accuracy: -0.3849527694356756\n",
            "Epoch 169/500, Loss: 324.41307067871094, Accuracy: -0.36049386664952676\n",
            "Epoch 170/500, Loss: 293.9837646484375, Accuracy: -0.34029970330206183\n",
            "Epoch 171/500, Loss: 310.39959716796875, Accuracy: -0.3179824048566977\n",
            "Epoch 172/500, Loss: 300.1670837402344, Accuracy: -0.2967354388647756\n",
            "Epoch 173/500, Loss: 292.81304931640625, Accuracy: -0.27587845283832557\n",
            "Epoch 174/500, Loss: 297.6482238769531, Accuracy: -0.25557762973170495\n",
            "Epoch 175/500, Loss: 290.59291076660156, Accuracy: -0.2351140768149449\n",
            "Epoch 176/500, Loss: 262.46238708496094, Accuracy: -0.21606062099583334\n",
            "Epoch 177/500, Loss: 273.92610931396484, Accuracy: -0.1957806466677683\n",
            "Epoch 178/500, Loss: 290.32848358154297, Accuracy: -0.17607953049364\n",
            "Epoch 179/500, Loss: 286.4774169921875, Accuracy: -0.15726844284593078\n",
            "Epoch 180/500, Loss: 270.56788635253906, Accuracy: -0.1383236816746003\n",
            "Epoch 181/500, Loss: 240.07977294921875, Accuracy: -0.12061316096402885\n",
            "Epoch 182/500, Loss: 271.2605285644531, Accuracy: -0.10108822751748892\n",
            "Epoch 183/500, Loss: 267.8107452392578, Accuracy: -0.08230649833546355\n",
            "Epoch 184/500, Loss: 242.2157440185547, Accuracy: -0.06562384402687571\n",
            "Epoch 185/500, Loss: 235.02452850341797, Accuracy: -0.048501115803905925\n",
            "Epoch 186/500, Loss: 233.7490692138672, Accuracy: -0.03077756100037199\n",
            "Epoch 187/500, Loss: 223.59654235839844, Accuracy: -0.015226977383588691\n",
            "Epoch 188/500, Loss: 221.41948699951172, Accuracy: 0.002548871905805883\n",
            "Epoch 189/500, Loss: 247.17223358154297, Accuracy: 0.018827150269572823\n",
            "Epoch 190/500, Loss: 228.12078094482422, Accuracy: 0.034479467112029205\n",
            "Epoch 191/500, Loss: 223.98751068115234, Accuracy: 0.04965517011982967\n",
            "Epoch 192/500, Loss: 223.45628356933594, Accuracy: 0.06617114491720422\n",
            "Epoch 193/500, Loss: 209.8651580810547, Accuracy: 0.0804509741261108\n",
            "Epoch 194/500, Loss: 207.69881439208984, Accuracy: 0.09594515676811555\n",
            "Epoch 195/500, Loss: 208.72439575195312, Accuracy: 0.11071994528474383\n",
            "Epoch 196/500, Loss: 212.52394104003906, Accuracy: 0.12487420901493929\n",
            "Epoch 197/500, Loss: 220.4858856201172, Accuracy: 0.14025007706941783\n",
            "Epoch 198/500, Loss: 206.25662231445312, Accuracy: 0.15332820853465523\n",
            "Epoch 199/500, Loss: 204.26030731201172, Accuracy: 0.16787785832827673\n",
            "Epoch 200/500, Loss: 203.82840728759766, Accuracy: 0.18178768171423498\n",
            "Epoch 201/500, Loss: 181.67636108398438, Accuracy: 0.1950981498989942\n",
            "Epoch 202/500, Loss: 200.10082244873047, Accuracy: 0.20919697125019887\n",
            "Epoch 203/500, Loss: 198.50421905517578, Accuracy: 0.22279826193793462\n",
            "Epoch 204/500, Loss: 197.96488189697266, Accuracy: 0.23581820254079022\n",
            "Epoch 205/500, Loss: 169.4846420288086, Accuracy: 0.24797549144643383\n",
            "Epoch 206/500, Loss: 161.4593162536621, Accuracy: 0.26080215138277163\n",
            "Epoch 207/500, Loss: 178.0994415283203, Accuracy: 0.2736024769908122\n",
            "Epoch 208/500, Loss: 157.5703887939453, Accuracy: 0.2857495999156332\n",
            "Epoch 209/500, Loss: 156.08685302734375, Accuracy: 0.29743574098559367\n",
            "Epoch 210/500, Loss: 163.5447998046875, Accuracy: 0.30945513857170237\n",
            "Epoch 211/500, Loss: 170.204345703125, Accuracy: 0.3212341547945957\n",
            "Epoch 212/500, Loss: 147.0915298461914, Accuracy: 0.3316753582358528\n",
            "Epoch 213/500, Loss: 150.80725860595703, Accuracy: 0.3431400465271224\n",
            "Epoch 214/500, Loss: 151.7126235961914, Accuracy: 0.35400253142414007\n",
            "Epoch 215/500, Loss: 146.05184936523438, Accuracy: 0.3645606594617937\n",
            "Epoch 216/500, Loss: 145.74839782714844, Accuracy: 0.3748564019381413\n",
            "Epoch 217/500, Loss: 138.2099609375, Accuracy: 0.38495028955437427\n",
            "Epoch 218/500, Loss: 148.4566650390625, Accuracy: 0.39572286108037447\n",
            "Epoch 219/500, Loss: 145.04173278808594, Accuracy: 0.40536365945079267\n",
            "Epoch 220/500, Loss: 135.95983123779297, Accuracy: 0.4148100534375183\n",
            "Epoch 221/500, Loss: 138.32479858398438, Accuracy: 0.42505672732675215\n",
            "Epoch 222/500, Loss: 128.93980407714844, Accuracy: 0.4342992992807856\n",
            "Epoch 223/500, Loss: 133.1263656616211, Accuracy: 0.44334263750963776\n",
            "Epoch 224/500, Loss: 134.03509140014648, Accuracy: 0.4531570456582842\n",
            "Epoch 225/500, Loss: 131.73434829711914, Accuracy: 0.46237136828021463\n",
            "Epoch 226/500, Loss: 122.57212829589844, Accuracy: 0.47067493701655483\n",
            "Epoch 227/500, Loss: 122.19729614257812, Accuracy: 0.4800364377580302\n",
            "Epoch 228/500, Loss: 112.86586380004883, Accuracy: 0.4885031512321407\n",
            "Epoch 229/500, Loss: 118.1517562866211, Accuracy: 0.497111761407789\n",
            "Epoch 230/500, Loss: 118.0614128112793, Accuracy: 0.5056952819534857\n",
            "Epoch 231/500, Loss: 111.52993392944336, Accuracy: 0.5140446394136782\n",
            "Epoch 232/500, Loss: 105.0758056640625, Accuracy: 0.5218766587751571\n",
            "Epoch 233/500, Loss: 113.03873062133789, Accuracy: 0.5298004748973228\n",
            "Epoch 234/500, Loss: 115.55960464477539, Accuracy: 0.5381522258599012\n",
            "Epoch 235/500, Loss: 113.42982864379883, Accuracy: 0.546121414816961\n",
            "Epoch 236/500, Loss: 97.48440933227539, Accuracy: 0.5529983564878866\n",
            "Epoch 237/500, Loss: 97.1047592163086, Accuracy: 0.5606412105181916\n",
            "Epoch 238/500, Loss: 98.80643463134766, Accuracy: 0.568057191744695\n",
            "Epoch 239/500, Loss: 109.69745254516602, Accuracy: 0.5752984294053898\n",
            "Epoch 240/500, Loss: 96.72582244873047, Accuracy: 0.5820714281060111\n",
            "Epoch 241/500, Loss: 92.80496215820312, Accuracy: 0.5889765390376083\n",
            "Epoch 242/500, Loss: 96.93416976928711, Accuracy: 0.5958295429439422\n",
            "Epoch 243/500, Loss: 100.82719802856445, Accuracy: 0.6027406034796154\n",
            "Epoch 244/500, Loss: 97.34657669067383, Accuracy: 0.6093767630008382\n",
            "Epoch 245/500, Loss: 93.28607177734375, Accuracy: 0.6156243877272984\n",
            "Epoch 246/500, Loss: 85.37872314453125, Accuracy: 0.6217869180702167\n",
            "Epoch 247/500, Loss: 85.34198760986328, Accuracy: 0.6282533592672448\n",
            "Epoch 248/500, Loss: 99.99790954589844, Accuracy: 0.6348265108754556\n",
            "Epoch 249/500, Loss: 83.83859634399414, Accuracy: 0.6404327709801821\n",
            "Epoch 250/500, Loss: 77.97645568847656, Accuracy: 0.6464206401223749\n",
            "Epoch 251/500, Loss: 84.46988677978516, Accuracy: 0.6525173137077491\n",
            "Epoch 252/500, Loss: 73.40464401245117, Accuracy: 0.6581344454537321\n",
            "Epoch 253/500, Loss: 79.79082107543945, Accuracy: 0.66421504056589\n",
            "Epoch 254/500, Loss: 69.6319580078125, Accuracy: 0.6694812862310636\n",
            "Epoch 255/500, Loss: 77.72736358642578, Accuracy: 0.6751550711442583\n",
            "Epoch 256/500, Loss: 75.05691528320312, Accuracy: 0.6804344725257827\n",
            "Epoch 257/500, Loss: 67.1402645111084, Accuracy: 0.6854008067018741\n",
            "Epoch 258/500, Loss: 74.4957504272461, Accuracy: 0.6910817851474162\n",
            "Epoch 259/500, Loss: 75.00255966186523, Accuracy: 0.6960246549485196\n",
            "Epoch 260/500, Loss: 69.5206298828125, Accuracy: 0.7008961013837184\n",
            "Epoch 261/500, Loss: 75.70611953735352, Accuracy: 0.7061350838542482\n",
            "Epoch 262/500, Loss: 65.99751663208008, Accuracy: 0.7105128627324228\n",
            "Epoch 263/500, Loss: 76.30365562438965, Accuracy: 0.7159913330150223\n",
            "Epoch 264/500, Loss: 57.38746738433838, Accuracy: 0.7198696818288426\n",
            "Epoch 265/500, Loss: 64.12409400939941, Accuracy: 0.725003533346319\n",
            "Epoch 266/500, Loss: 67.2397632598877, Accuracy: 0.7296340052704722\n",
            "Epoch 267/500, Loss: 62.67470169067383, Accuracy: 0.734009746304237\n",
            "Epoch 268/500, Loss: 59.46807670593262, Accuracy: 0.7384534080769383\n",
            "Epoch 269/500, Loss: 62.11554718017578, Accuracy: 0.7428084816679624\n",
            "Epoch 270/500, Loss: 62.28239822387695, Accuracy: 0.7469738089394965\n",
            "Epoch 271/500, Loss: 59.034156799316406, Accuracy: 0.7512108655286714\n",
            "Epoch 272/500, Loss: 59.88077926635742, Accuracy: 0.7551875597900497\n",
            "Epoch 273/500, Loss: 61.05080032348633, Accuracy: 0.7595263028926534\n",
            "Epoch 274/500, Loss: 56.34890556335449, Accuracy: 0.7634290601640676\n",
            "Epoch 275/500, Loss: 60.986040115356445, Accuracy: 0.7675438396570702\n",
            "Epoch 276/500, Loss: 59.33201026916504, Accuracy: 0.7714521772084055\n",
            "Epoch 277/500, Loss: 49.32318305969238, Accuracy: 0.774951157781427\n",
            "Epoch 278/500, Loss: 48.607412338256836, Accuracy: 0.7788261473878972\n",
            "Epoch 279/500, Loss: 51.951114654541016, Accuracy: 0.7826256140818718\n",
            "Epoch 280/500, Loss: 47.47431564331055, Accuracy: 0.786219925277384\n",
            "Epoch 281/500, Loss: 47.55991172790527, Accuracy: 0.7894711774599539\n",
            "Epoch 282/500, Loss: 45.7076358795166, Accuracy: 0.7930437150484679\n",
            "Epoch 283/500, Loss: 51.13952445983887, Accuracy: 0.7965052920355497\n",
            "Epoch 284/500, Loss: 42.32700252532959, Accuracy: 0.7995709276197924\n",
            "Epoch 285/500, Loss: 40.83927345275879, Accuracy: 0.8026666713223878\n",
            "Epoch 286/500, Loss: 40.45787715911865, Accuracy: 0.805728041594298\n",
            "Epoch 287/500, Loss: 41.63123798370361, Accuracy: 0.8088647122695711\n",
            "Epoch 288/500, Loss: 39.70401191711426, Accuracy: 0.8117762387541683\n",
            "Epoch 289/500, Loss: 38.650071144104004, Accuracy: 0.8145245271504478\n",
            "Epoch 290/500, Loss: 41.91966247558594, Accuracy: 0.8174885161504055\n",
            "Epoch 291/500, Loss: 41.58901596069336, Accuracy: 0.8203073700583257\n",
            "Epoch 292/500, Loss: 40.239356994628906, Accuracy: 0.8229777794468356\n",
            "Epoch 293/500, Loss: 39.11408996582031, Accuracy: 0.8255933326157954\n",
            "Epoch 294/500, Loss: 44.0544548034668, Accuracy: 0.8284435161838677\n",
            "Epoch 295/500, Loss: 45.42667102813721, Accuracy: 0.831178865621055\n",
            "Epoch 296/500, Loss: 39.81896209716797, Accuracy: 0.8336613533754272\n",
            "Epoch 297/500, Loss: 40.00509452819824, Accuracy: 0.8364562796142743\n",
            "Epoch 298/500, Loss: 39.00954055786133, Accuracy: 0.838956016679591\n",
            "Epoch 299/500, Loss: 39.32746505737305, Accuracy: 0.8416719478724384\n",
            "Epoch 300/500, Loss: 38.83554649353027, Accuracy: 0.8442240514611723\n",
            "Epoch 301/500, Loss: 34.11519527435303, Accuracy: 0.8467986766720794\n",
            "Epoch 302/500, Loss: 34.27178764343262, Accuracy: 0.8492305628491204\n",
            "Epoch 303/500, Loss: 36.78398323059082, Accuracy: 0.8519637339625902\n",
            "Epoch 304/500, Loss: 33.21676445007324, Accuracy: 0.8542246040035127\n",
            "Epoch 305/500, Loss: 31.366618156433105, Accuracy: 0.8565604770921662\n",
            "Epoch 306/500, Loss: 33.48161315917969, Accuracy: 0.8590462669517112\n",
            "Epoch 307/500, Loss: 33.13825035095215, Accuracy: 0.8612521112360031\n",
            "Epoch 308/500, Loss: 30.8182373046875, Accuracy: 0.8634233967983718\n",
            "Epoch 309/500, Loss: 30.163406372070312, Accuracy: 0.8657677308844339\n",
            "Epoch 310/500, Loss: 27.073071479797363, Accuracy: 0.8677334318194236\n",
            "Epoch 311/500, Loss: 30.74173927307129, Accuracy: 0.8699614960434341\n",
            "Epoch 312/500, Loss: 30.236326217651367, Accuracy: 0.8720175759392549\n",
            "Epoch 313/500, Loss: 28.088014602661133, Accuracy: 0.8739351345823207\n",
            "Epoch 314/500, Loss: 29.287275314331055, Accuracy: 0.8759791070868437\n",
            "Epoch 315/500, Loss: 27.54518413543701, Accuracy: 0.8778409900896669\n",
            "Epoch 316/500, Loss: 28.296013832092285, Accuracy: 0.8798042762488925\n",
            "Epoch 317/500, Loss: 32.85565376281738, Accuracy: 0.8818816542774257\n",
            "Epoch 318/500, Loss: 26.908222198486328, Accuracy: 0.8834555408740979\n",
            "Epoch 319/500, Loss: 25.41987419128418, Accuracy: 0.8853496260479282\n",
            "Epoch 320/500, Loss: 28.234230041503906, Accuracy: 0.8872587640340305\n",
            "Epoch 321/500, Loss: 25.058207511901855, Accuracy: 0.8889832314976025\n",
            "Epoch 322/500, Loss: 26.705839157104492, Accuracy: 0.8909245249261444\n",
            "Epoch 323/500, Loss: 26.30803394317627, Accuracy: 0.8924951105938825\n",
            "Epoch 324/500, Loss: 29.128252029418945, Accuracy: 0.8944637497118\n",
            "Epoch 325/500, Loss: 20.610365867614746, Accuracy: 0.895879386819155\n",
            "Epoch 326/500, Loss: 21.09750270843506, Accuracy: 0.8977004570360938\n",
            "Epoch 327/500, Loss: 24.40694808959961, Accuracy: 0.8993791747395391\n",
            "Epoch 328/500, Loss: 24.084239959716797, Accuracy: 0.9010374734999033\n",
            "Epoch 329/500, Loss: 24.119638442993164, Accuracy: 0.9025883789501985\n",
            "Epoch 330/500, Loss: 23.578031539916992, Accuracy: 0.9041922811224969\n",
            "Epoch 331/500, Loss: 24.91761302947998, Accuracy: 0.90575693455845\n",
            "Epoch 332/500, Loss: 21.03112506866455, Accuracy: 0.9072349493561704\n",
            "Epoch 333/500, Loss: 20.801799774169922, Accuracy: 0.9087090048700316\n",
            "Epoch 334/500, Loss: 19.196919441223145, Accuracy: 0.910188995477527\n",
            "Epoch 335/500, Loss: 18.334939002990723, Accuracy: 0.911665340713947\n",
            "Epoch 336/500, Loss: 18.999929904937744, Accuracy: 0.9131212617591503\n",
            "Epoch 337/500, Loss: 20.070183753967285, Accuracy: 0.9144765845587474\n",
            "Epoch 338/500, Loss: 22.04184055328369, Accuracy: 0.9159369691919864\n",
            "Epoch 339/500, Loss: 20.936010360717773, Accuracy: 0.9173023369747999\n",
            "Epoch 340/500, Loss: 17.29612970352173, Accuracy: 0.9185187723538111\n",
            "Epoch 341/500, Loss: 19.878018379211426, Accuracy: 0.9199329801046204\n",
            "Epoch 342/500, Loss: 18.355791091918945, Accuracy: 0.9211449196621733\n",
            "Epoch 343/500, Loss: 20.17444086074829, Accuracy: 0.9225462680275128\n",
            "Epoch 344/500, Loss: 17.027212619781494, Accuracy: 0.9237215794920585\n",
            "Epoch 345/500, Loss: 18.549010753631592, Accuracy: 0.925031243877801\n",
            "Epoch 346/500, Loss: 15.528613567352295, Accuracy: 0.9261623015954916\n",
            "Epoch 347/500, Loss: 16.36469030380249, Accuracy: 0.9274093218259041\n",
            "Epoch 348/500, Loss: 18.205273151397705, Accuracy: 0.9286640477682072\n",
            "Epoch 349/500, Loss: 14.692849159240723, Accuracy: 0.9296790831448962\n",
            "Epoch 350/500, Loss: 17.465698719024658, Accuracy: 0.930952300959296\n",
            "Epoch 351/500, Loss: 15.774898529052734, Accuracy: 0.9319262285964737\n",
            "Epoch 352/500, Loss: 16.193151473999023, Accuracy: 0.9330721942266008\n",
            "Epoch 353/500, Loss: 14.172389507293701, Accuracy: 0.9341036050776896\n",
            "Epoch 354/500, Loss: 14.441464900970459, Accuracy: 0.9351849520877156\n",
            "Epoch 355/500, Loss: 14.235031127929688, Accuracy: 0.9362114462236563\n",
            "Epoch 356/500, Loss: 14.355395793914795, Accuracy: 0.9371550528512642\n",
            "Epoch 357/500, Loss: 12.426795482635498, Accuracy: 0.938135218442165\n",
            "Epoch 358/500, Loss: 13.77950668334961, Accuracy: 0.9391468348680894\n",
            "Epoch 359/500, Loss: 12.042973041534424, Accuracy: 0.9399888176129821\n",
            "Epoch 360/500, Loss: 15.054193019866943, Accuracy: 0.940980602150117\n",
            "Epoch 361/500, Loss: 13.207959651947021, Accuracy: 0.941879867733984\n",
            "Epoch 362/500, Loss: 11.655150651931763, Accuracy: 0.9426718961503913\n",
            "Epoch 363/500, Loss: 13.085197448730469, Accuracy: 0.9436155611810173\n",
            "Epoch 364/500, Loss: 11.461540699005127, Accuracy: 0.9443917683038038\n",
            "Epoch 365/500, Loss: 14.547922611236572, Accuracy: 0.9452958695324806\n",
            "Epoch 366/500, Loss: 14.367909908294678, Accuracy: 0.9460794747390578\n",
            "Epoch 367/500, Loss: 11.48030710220337, Accuracy: 0.9468430411985648\n",
            "Epoch 368/500, Loss: 11.29344654083252, Accuracy: 0.9476467820270729\n",
            "Epoch 369/500, Loss: 13.87548303604126, Accuracy: 0.9485604164523762\n",
            "Epoch 370/500, Loss: 11.425540447235107, Accuracy: 0.9492626762916178\n",
            "Epoch 371/500, Loss: 11.375560283660889, Accuracy: 0.9500971356218688\n",
            "Epoch 372/500, Loss: 10.309949398040771, Accuracy: 0.9508123062174952\n",
            "Epoch 373/500, Loss: 10.944989681243896, Accuracy: 0.9515921457372024\n",
            "Epoch 374/500, Loss: 12.443356990814209, Accuracy: 0.952402209666881\n",
            "Epoch 375/500, Loss: 11.19311237335205, Accuracy: 0.953078098154553\n",
            "Epoch 376/500, Loss: 11.534238338470459, Accuracy: 0.9537994870972843\n",
            "Epoch 377/500, Loss: 9.525428295135498, Accuracy: 0.9544715561920718\n",
            "Epoch 378/500, Loss: 11.08462142944336, Accuracy: 0.9552494724257636\n",
            "Epoch 379/500, Loss: 10.433430671691895, Accuracy: 0.955909485874265\n",
            "Epoch 380/500, Loss: 9.900869369506836, Accuracy: 0.956566631654468\n",
            "Epoch 381/500, Loss: 9.401473045349121, Accuracy: 0.9572505027018489\n",
            "Epoch 382/500, Loss: 9.156089544296265, Accuracy: 0.9579112579193706\n",
            "Epoch 383/500, Loss: 9.396376132965088, Accuracy: 0.9585709286061581\n",
            "Epoch 384/500, Loss: 10.061021327972412, Accuracy: 0.9592151632345327\n",
            "Epoch 385/500, Loss: 9.371190547943115, Accuracy: 0.9597917399342926\n",
            "Epoch 386/500, Loss: 8.757511854171753, Accuracy: 0.9604065969214148\n",
            "Epoch 387/500, Loss: 8.724557161331177, Accuracy: 0.9609802196413958\n",
            "Epoch 388/500, Loss: 8.675235986709595, Accuracy: 0.9615957265985298\n",
            "Epoch 389/500, Loss: 9.419365167617798, Accuracy: 0.9621930600891306\n",
            "Epoch 390/500, Loss: 9.008252620697021, Accuracy: 0.9627160467714321\n",
            "Epoch 391/500, Loss: 9.027607917785645, Accuracy: 0.9632833040879236\n",
            "Epoch 392/500, Loss: 9.119959831237793, Accuracy: 0.96384987047679\n",
            "Epoch 393/500, Loss: 9.300406217575073, Accuracy: 0.9644320866661036\n",
            "Epoch 394/500, Loss: 8.333900451660156, Accuracy: 0.9649596929078633\n",
            "Epoch 395/500, Loss: 8.315187215805054, Accuracy: 0.9654940184718441\n",
            "Epoch 396/500, Loss: 8.91771912574768, Accuracy: 0.9660570533412581\n",
            "Epoch 397/500, Loss: 7.569617509841919, Accuracy: 0.9665136050526005\n",
            "Epoch 398/500, Loss: 7.289656639099121, Accuracy: 0.9670407746638178\n",
            "Epoch 399/500, Loss: 6.7797691822052, Accuracy: 0.9675276204554817\n",
            "Epoch 400/500, Loss: 8.02134919166565, Accuracy: 0.9680443574045561\n",
            "Epoch 401/500, Loss: 6.310404062271118, Accuracy: 0.9684592530477036\n",
            "Epoch 402/500, Loss: 6.722700119018555, Accuracy: 0.9689706954441075\n",
            "Epoch 403/500, Loss: 7.595314025878906, Accuracy: 0.9694511449183184\n",
            "Epoch 404/500, Loss: 7.222827911376953, Accuracy: 0.9698984138112224\n",
            "Epoch 405/500, Loss: 7.124378681182861, Accuracy: 0.9702985653987879\n",
            "Epoch 406/500, Loss: 6.5757176876068115, Accuracy: 0.9707531805782385\n",
            "Epoch 407/500, Loss: 6.601487398147583, Accuracy: 0.9711759582413082\n",
            "Epoch 408/500, Loss: 6.817642450332642, Accuracy: 0.9715901960636016\n",
            "Epoch 409/500, Loss: 6.3931262493133545, Accuracy: 0.9720108884750782\n",
            "Epoch 410/500, Loss: 7.213085412979126, Accuracy: 0.9724617030693835\n",
            "Epoch 411/500, Loss: 7.316086530685425, Accuracy: 0.9728607633574166\n",
            "Epoch 412/500, Loss: 5.707646608352661, Accuracy: 0.973216927804668\n",
            "Epoch 413/500, Loss: 7.0988616943359375, Accuracy: 0.973674586696242\n",
            "Epoch 414/500, Loss: 6.166025400161743, Accuracy: 0.9740291179245553\n",
            "Epoch 415/500, Loss: 5.8191633224487305, Accuracy: 0.9744428622649348\n",
            "Epoch 416/500, Loss: 5.837454080581665, Accuracy: 0.9748164150581103\n",
            "Epoch 417/500, Loss: 6.5000834465026855, Accuracy: 0.9752272445019496\n",
            "Epoch 418/500, Loss: 5.790333032608032, Accuracy: 0.9755538021794178\n",
            "Epoch 419/500, Loss: 5.686060667037964, Accuracy: 0.9759324936909713\n",
            "Epoch 420/500, Loss: 5.1230796575546265, Accuracy: 0.9762910958870288\n",
            "Epoch 421/500, Loss: 5.942344427108765, Accuracy: 0.976657260950353\n",
            "Epoch 422/500, Loss: 5.817751884460449, Accuracy: 0.977008497075494\n",
            "Epoch 423/500, Loss: 5.9372687339782715, Accuracy: 0.977367666890279\n",
            "Epoch 424/500, Loss: 4.891724348068237, Accuracy: 0.9776569229369403\n",
            "Epoch 425/500, Loss: 5.631647109985352, Accuracy: 0.9780428000788295\n",
            "Epoch 426/500, Loss: 4.79971969127655, Accuracy: 0.9783377729466832\n",
            "Epoch 427/500, Loss: 5.382900714874268, Accuracy: 0.9786981334153556\n",
            "Epoch 428/500, Loss: 5.631746530532837, Accuracy: 0.9790277318411432\n",
            "Epoch 429/500, Loss: 4.535295128822327, Accuracy: 0.9793259774654951\n",
            "Epoch 430/500, Loss: 4.8282411098480225, Accuracy: 0.9796562968180469\n",
            "Epoch 431/500, Loss: 4.8495917320251465, Accuracy: 0.9799781210568336\n",
            "Epoch 432/500, Loss: 4.51762580871582, Accuracy: 0.9802733810531947\n",
            "Epoch 433/500, Loss: 4.494509220123291, Accuracy: 0.9805702858870324\n",
            "Epoch 434/500, Loss: 4.786994099617004, Accuracy: 0.9808968912080352\n",
            "Epoch 435/500, Loss: 4.2533204555511475, Accuracy: 0.9811655009943042\n",
            "Epoch 436/500, Loss: 4.800501823425293, Accuracy: 0.9814437992370855\n",
            "Epoch 437/500, Loss: 4.25463604927063, Accuracy: 0.9817332244571629\n",
            "Epoch 438/500, Loss: 4.071432590484619, Accuracy: 0.9819833002919595\n",
            "Epoch 439/500, Loss: 4.869592905044556, Accuracy: 0.9823027400454168\n",
            "Epoch 440/500, Loss: 4.005425810813904, Accuracy: 0.9825364149082826\n",
            "Epoch 441/500, Loss: 4.861502170562744, Accuracy: 0.9828436474561755\n",
            "Epoch 442/500, Loss: 3.9484256505966187, Accuracy: 0.9830827518912166\n",
            "Epoch 443/500, Loss: 4.432054042816162, Accuracy: 0.9833540421682941\n",
            "Epoch 444/500, Loss: 4.20361602306366, Accuracy: 0.983620412517352\n",
            "Epoch 445/500, Loss: 4.524927258491516, Accuracy: 0.983892680095142\n",
            "Epoch 446/500, Loss: 4.003315091133118, Accuracy: 0.9841316522503557\n",
            "Epoch 447/500, Loss: 3.3805545568466187, Accuracy: 0.9843453949138982\n",
            "Epoch 448/500, Loss: 3.5464529991149902, Accuracy: 0.9846038006236064\n",
            "Epoch 449/500, Loss: 3.545537829399109, Accuracy: 0.9848395900513011\n",
            "Epoch 450/500, Loss: 3.1914392709732056, Accuracy: 0.9850764201780674\n",
            "Epoch 451/500, Loss: 3.0808337926864624, Accuracy: 0.9852978912540732\n",
            "Epoch 452/500, Loss: 2.9771589636802673, Accuracy: 0.9855204028466599\n",
            "Epoch 453/500, Loss: 3.3965855836868286, Accuracy: 0.9857418029196617\n",
            "Epoch 454/500, Loss: 3.2754498720169067, Accuracy: 0.9859521207327268\n",
            "Epoch 455/500, Loss: 3.3998465538024902, Accuracy: 0.986155515044542\n",
            "Epoch 456/500, Loss: 3.023730158805847, Accuracy: 0.9863494234794113\n",
            "Epoch 457/500, Loss: 2.8449363112449646, Accuracy: 0.9865361665651363\n",
            "Epoch 458/500, Loss: 3.6904428005218506, Accuracy: 0.9867453140677211\n",
            "Epoch 459/500, Loss: 2.8241840600967407, Accuracy: 0.9869262986571241\n",
            "Epoch 460/500, Loss: 2.7491957545280457, Accuracy: 0.9871304913652761\n",
            "Epoch 461/500, Loss: 2.768880605697632, Accuracy: 0.9873130066273488\n",
            "Epoch 462/500, Loss: 3.0095019340515137, Accuracy: 0.9875106354315412\n",
            "Epoch 463/500, Loss: 2.7401976585388184, Accuracy: 0.9876791229036664\n",
            "Epoch 464/500, Loss: 2.549158990383148, Accuracy: 0.9878566628492409\n",
            "Epoch 465/500, Loss: 2.663939595222473, Accuracy: 0.9880288718726847\n",
            "Epoch 466/500, Loss: 2.5010241270065308, Accuracy: 0.9881940659206896\n",
            "Epoch 467/500, Loss: 2.4496917724609375, Accuracy: 0.9883615497046097\n",
            "Epoch 468/500, Loss: 2.6516038179397583, Accuracy: 0.9885245599893561\n",
            "Epoch 469/500, Loss: 2.6322224140167236, Accuracy: 0.9886919430282191\n",
            "Epoch 470/500, Loss: 3.014845132827759, Accuracy: 0.9888595146398808\n",
            "Epoch 471/500, Loss: 2.625084638595581, Accuracy: 0.9889926434986825\n",
            "Epoch 472/500, Loss: 2.574313163757324, Accuracy: 0.9891706157949081\n",
            "Epoch 473/500, Loss: 2.4815785884857178, Accuracy: 0.9893220543812661\n",
            "Epoch 474/500, Loss: 2.917469561100006, Accuracy: 0.9894888863425298\n",
            "Epoch 475/500, Loss: 2.5898523330688477, Accuracy: 0.9896223712015698\n",
            "Epoch 476/500, Loss: 2.152069628238678, Accuracy: 0.9897745239711324\n",
            "Epoch 477/500, Loss: 2.1128783226013184, Accuracy: 0.9899257855461594\n",
            "Epoch 478/500, Loss: 2.254459857940674, Accuracy: 0.9900849969388453\n",
            "Epoch 479/500, Loss: 2.2921507358551025, Accuracy: 0.9902320808897142\n",
            "Epoch 480/500, Loss: 2.528842568397522, Accuracy: 0.9903816755799772\n",
            "Epoch 481/500, Loss: 1.978281855583191, Accuracy: 0.9905090968540502\n",
            "Epoch 482/500, Loss: 2.066533863544464, Accuracy: 0.9906494041497801\n",
            "Epoch 483/500, Loss: 2.043823003768921, Accuracy: 0.9907866197438611\n",
            "Epoch 484/500, Loss: 2.1154242753982544, Accuracy: 0.9909244831731658\n",
            "Epoch 485/500, Loss: 1.981704294681549, Accuracy: 0.991039522816465\n",
            "Epoch 486/500, Loss: 2.3352827429771423, Accuracy: 0.9911740966478747\n",
            "Epoch 487/500, Loss: 1.9791266322135925, Accuracy: 0.9913036236003075\n",
            "Epoch 488/500, Loss: 1.9985665082931519, Accuracy: 0.9914279086103498\n",
            "Epoch 489/500, Loss: 1.9443224668502808, Accuracy: 0.9915376594814004\n",
            "Epoch 490/500, Loss: 1.7665978074073792, Accuracy: 0.9916665476974832\n",
            "Epoch 491/500, Loss: 1.7745869159698486, Accuracy: 0.9917909591701162\n",
            "Epoch 492/500, Loss: 2.0191866159439087, Accuracy: 0.9918992141536475\n",
            "Epoch 493/500, Loss: 1.6978505849838257, Accuracy: 0.9920209007080389\n",
            "Epoch 494/500, Loss: 2.159292459487915, Accuracy: 0.9921453925934005\n",
            "Epoch 495/500, Loss: 1.8510653376579285, Accuracy: 0.9922452736515878\n",
            "Epoch 496/500, Loss: 1.7102214097976685, Accuracy: 0.9923568615464115\n",
            "Epoch 497/500, Loss: 1.9643570184707642, Accuracy: 0.9924741997485805\n",
            "Epoch 498/500, Loss: 1.839600920677185, Accuracy: 0.9925786062413062\n",
            "Epoch 499/500, Loss: 1.979736089706421, Accuracy: 0.9926954393751828\n",
            "Epoch 500/500, Loss: 1.6464258432388306, Accuracy: 0.9927928512440819\n"
          ]
        }
      ]
    },
    {
      "cell_type": "code",
      "source": [],
      "metadata": {
        "id": "hlb9-6USmo9Z"
      },
      "execution_count": null,
      "outputs": []
    },
    {
      "cell_type": "code",
      "source": [
        "# Plot training loss\n",
        "plt.figure(figsize=(10, 5))\n",
        "plt.plot(range(1, epochs + 1), train_losses, label='Training Loss')\n",
        "plt.xlabel('Epochs')\n",
        "plt.ylabel('Loss')\n",
        "plt.title('Training Loss')\n",
        "plt.legend()\n",
        "plt.show()"
      ],
      "metadata": {
        "colab": {
          "base_uri": "https://localhost:8080/",
          "height": 487
        },
        "id": "Z_t1k1AHa4Jm",
        "outputId": "b91af53f-53c5-4fe5-804d-3f7cbec811fa"
      },
      "execution_count": null,
      "outputs": [
        {
          "output_type": "display_data",
          "data": {
            "text/plain": [
              "<Figure size 1000x500 with 1 Axes>"
            ],
            "image/png": "[encoded data removed]"
          },
          "metadata": {}
        }
      ]
    },
    {
      "cell_type": "code",
      "source": [
        "plt.figure(figsize=(10, 5))\n",
        "plt.plot(range(1, epochs + 1), train_accuracies, label='Training Accuracy')\n",
        "plt.xlabel('Epochs')\n",
        "plt.ylabel('Accuracy')\n",
        "plt.title('Training accuracy')\n",
        "plt.legend()\n",
        "plt.show()"
      ],
      "metadata": {
        "colab": {
          "base_uri": "https://localhost:8080/",
          "height": 487
        },
        "id": "Fmhuwr0smrFU",
        "outputId": "6f4d0c92-e2e0-488f-a0f5-51d69de4b6ea"
      },
      "execution_count": null,
      "outputs": [
        {
          "output_type": "display_data",
          "data": {
            "text/plain": [
              "<Figure size 1000x500 with 1 Axes>"
            ],
            "image/png": "[encoded data removed]"
          },
          "metadata": {}
        }
      ]
    },
    {
      "cell_type": "code",
      "source": [
        "# Evaluation\n",
        "model.eval()\n",
        "with torch.no_grad():\n",
        "    predicted = model(X_test_tensor)\n",
        "    test_loss = criterion(predicted.squeeze(), y_test_tensor)\n",
        "    print(f'Test Loss: {test_loss.item()}')\n",
        "\n",
        "    # Visualize predicted vs actual\n",
        "    plt.figure(figsize=(10, 5))\n",
        "    plt.scatter(y_test, predicted, alpha=0.5)\n",
        "    plt.xlabel('Actual Performance')\n",
        "    plt.ylabel('Predicted Performance')\n",
        "    plt.title('Actual vs Predicted Performance')\n",
        "    plt.show()"
      ],
      "metadata": {
        "colab": {
          "base_uri": "https://localhost:8080/",
          "height": 504
        },
        "id": "4Ie1Dy-3RMBr",
        "outputId": "c41069ab-3513-4ea1-d5dd-4869407ef0af"
      },
      "execution_count": null,
      "outputs": [
        {
          "output_type": "stream",
          "name": "stdout",
          "text": [
            "Test Loss: 321.1349182128906\n"
          ]
        },
        {
          "output_type": "display_data",
          "data": {
            "text/plain": [
              "<Figure size 1000x500 with 1 Axes>"
            ],
            "image/png": "[encoded data removed]"
          },
          "metadata": {}
        }
      ]
    },
    {
      "cell_type": "code",
      "source": [
        "# Print final loss and accuracy\n",
        "final_loss = train_losses[-1]\n",
        "final_accuracy = train_accuracies[-1]\n",
        "\n",
        "print(f'Final Loss: {final_loss}')\n",
        "print(f'Final Accuracy: {final_accuracy}')\n"
      ],
      "metadata": {
        "id": "gU7mknczneXC",
        "outputId": "6971207d-c217-4e36-cedf-c3b9acc50adc",
        "colab": {
          "base_uri": "https://localhost:8080/"
        }
      },
      "execution_count": null,
      "outputs": [
        {
          "output_type": "stream",
          "name": "stdout",
          "text": [
            "Final Loss: 1.6464258432388306\n",
            "Final Accuracy: 0.9927928512440819\n"
          ]
        }
      ]
    },
    {
      "cell_type": "code",
      "source": [
        "# Save the trained model\n",
        "torch.save(model.state_dict(), 'student_performance_model.pth')\n",
        "\n",
        "# Load the saved model\n",
        "loaded_model = GNN(input_dim, hidden_dim, output_dim)\n",
        "loaded_model.load_state_dict(torch.load('student_performance_model.pth'))\n",
        "loaded_model.eval()"
      ],
      "metadata": {
        "colab": {
          "base_uri": "https://localhost:8080/"
        },
        "id": "6dziTNHhajJj",
        "outputId": "d0841d6f-7bd1-42db-d1aa-fe278c7452cb"
      },
      "execution_count": null,
      "outputs": [
        {
          "output_type": "execute_result",
          "data": {
            "text/plain": [
              "GNN(\n",
              "  (fc1): Linear(in_features=103, out_features=64, bias=True)\n",
              "  (fc2): Linear(in_features=64, out_features=1, bias=True)\n",
              "  (relu): ReLU()\n",
              ")"
            ]
          },
          "metadata": {},
          "execution_count": 19
        }
      ]
    }
  ]
}